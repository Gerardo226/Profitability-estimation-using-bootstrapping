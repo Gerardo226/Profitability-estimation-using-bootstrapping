{
 "cells": [
  {
   "cell_type": "markdown",
   "id": "ea91d4b2",
   "metadata": {},
   "source": [
    "# Goal\n",
    "Develop a linear regression model for the OilyGiant mining company that would analyze oil well parameters in each of the three selected regions and predict the volume of reserves in the new wells for each region;\n",
    "Based on these predictions, pick the region with the highest total profit and the lowest risk of losses."
   ]
  },
  {
   "cell_type": "markdown",
   "id": "d5fd6d28",
   "metadata": {},
   "source": [
    "# Data description\n",
    "Features\n",
    "\n",
    "id — unique oil well identifier\n",
    "f0, f1, f2 — three features of points (their specific meaning is unimportant, but the features themselves are significant)\n",
    "Target\n",
    "\n",
    "product — volume of reserves in the oil well (thousand barrels)"
   ]
  },
  {
   "cell_type": "markdown",
   "id": "c3db7d62",
   "metadata": {},
   "source": [
    "# Conditions:\n",
    "\n",
    "- Only linear regression is suitable for model training (the rest are not sufficiently predictable).\n",
    "- When exploring the region, a study of 500 points is carried with picking the best 200 points for the profit calculation.\n",
    "- The budget for development of 200 oil wells is 100 USD million.\n",
    "- One barrel of raw materials brings 4.5 USD of revenue The revenue from one unit of product is 4,500 dollars (volume of reserves is in thousand barrels).\n",
    "- After the risk evaluation, keep only the regions with the risk of losses lower than 2.5%. From the ones that fit the criteria, the region with the highest average profit should be selected.\n",
    "- The data is synthetic: contract details and well characteristics are not disclosed"
   ]
  },
  {
   "cell_type": "code",
   "execution_count": 9,
   "id": "4cc91dc3",
   "metadata": {},
   "outputs": [],
   "source": [
    "\n",
    "import pandas as pd\n",
    "import matplotlib.pyplot as plt\n",
    "import numpy as np\n",
    "from scipy import stats as st\n",
    "import seaborn as sns\n",
    "\n",
    "from sklearn.preprocessing import StandardScaler \n",
    "from sklearn.model_selection import train_test_split, GridSearchCV, KFold\n",
    "\n",
    "from sklearn.dummy import DummyRegressor\n",
    "from sklearn.linear_model import LinearRegression\n",
    "from sklearn.metrics import mean_squared_error\n",
    "\n",
    "\n",
    "pd.options.mode.chained_assignment = None   \n"
   ]
  },
  {
   "cell_type": "code",
   "execution_count": 11,
   "id": "b9b22035",
   "metadata": {},
   "outputs": [],
   "source": [
    "\n",
    "    df0 = pd.read_csv('geo_data_0 (1).csv')\n",
    "    df1 = pd.read_csv('geo_data_1.csv')\n",
    "    df2 = pd.read_csv('geo_data_2.csv')\n",
    "    "
   ]
  },
  {
   "cell_type": "code",
   "execution_count": 13,
   "id": "c8f7d33b",
   "metadata": {},
   "outputs": [],
   "source": [
    "#Function  that shows data summary \n",
    "def summary(data):\n",
    "    return data.head(3), data.info(),data.describe(include = 'all')"
   ]
  },
  {
   "cell_type": "code",
   "execution_count": 14,
   "id": "d3775101",
   "metadata": {},
   "outputs": [
    {
     "name": "stdout",
     "output_type": "stream",
     "text": [
      "<class 'pandas.core.frame.DataFrame'>\n",
      "RangeIndex: 100000 entries, 0 to 99999\n",
      "Data columns (total 5 columns):\n",
      " #   Column   Non-Null Count   Dtype  \n",
      "---  ------   --------------   -----  \n",
      " 0   id       100000 non-null  object \n",
      " 1   f0       100000 non-null  float64\n",
      " 2   f1       100000 non-null  float64\n",
      " 3   f2       100000 non-null  float64\n",
      " 4   product  100000 non-null  float64\n",
      "dtypes: float64(4), object(1)\n",
      "memory usage: 3.8+ MB\n"
     ]
    },
    {
     "data": {
      "text/plain": [
       "(      id        f0        f1        f2     product\n",
       " 0  txEyH  0.705745 -0.497823  1.221170  105.280062\n",
       " 1  2acmU  1.334711 -0.340164  4.365080   73.037750\n",
       " 2  409Wp  1.022732  0.151990  1.419926   85.265647,\n",
       " None,\n",
       "             id             f0             f1             f2        product\n",
       " count   100000  100000.000000  100000.000000  100000.000000  100000.000000\n",
       " unique   99990            NaN            NaN            NaN            NaN\n",
       " top      fiKDv            NaN            NaN            NaN            NaN\n",
       " freq         2            NaN            NaN            NaN            NaN\n",
       " mean       NaN       0.500419       0.250143       2.502647      92.500000\n",
       " std        NaN       0.871832       0.504433       3.248248      44.288691\n",
       " min        NaN      -1.408605      -0.848218     -12.088328       0.000000\n",
       " 25%        NaN      -0.072580      -0.200881       0.287748      56.497507\n",
       " 50%        NaN       0.502360       0.250252       2.515969      91.849972\n",
       " 75%        NaN       1.073581       0.700646       4.715088     128.564089\n",
       " max        NaN       2.362331       1.343769      16.003790     185.364347)"
      ]
     },
     "execution_count": 14,
     "metadata": {},
     "output_type": "execute_result"
    }
   ],
   "source": [
    "summary(df0)"
   ]
  },
  {
   "cell_type": "code",
   "execution_count": 15,
   "id": "21eaebaf",
   "metadata": {},
   "outputs": [
    {
     "name": "stdout",
     "output_type": "stream",
     "text": [
      "<class 'pandas.core.frame.DataFrame'>\n",
      "RangeIndex: 100000 entries, 0 to 99999\n",
      "Data columns (total 5 columns):\n",
      " #   Column   Non-Null Count   Dtype  \n",
      "---  ------   --------------   -----  \n",
      " 0   id       100000 non-null  object \n",
      " 1   f0       100000 non-null  float64\n",
      " 2   f1       100000 non-null  float64\n",
      " 3   f2       100000 non-null  float64\n",
      " 4   product  100000 non-null  float64\n",
      "dtypes: float64(4), object(1)\n",
      "memory usage: 3.8+ MB\n"
     ]
    },
    {
     "data": {
      "text/plain": [
       "(      id         f0        f1        f2     product\n",
       " 0  kBEdx -15.001348 -8.276000 -0.005876    3.179103\n",
       " 1  62mP7  14.272088 -3.475083  0.999183   26.953261\n",
       " 2  vyE1P   6.263187 -5.948386  5.001160  134.766305,\n",
       " None,\n",
       "             id             f0             f1             f2        product\n",
       " count   100000  100000.000000  100000.000000  100000.000000  100000.000000\n",
       " unique   99996            NaN            NaN            NaN            NaN\n",
       " top      wt4Uk            NaN            NaN            NaN            NaN\n",
       " freq         2            NaN            NaN            NaN            NaN\n",
       " mean       NaN       1.141296      -4.796579       2.494541      68.825000\n",
       " std        NaN       8.965932       5.119872       1.703572      45.944423\n",
       " min        NaN     -31.609576     -26.358598      -0.018144       0.000000\n",
       " 25%        NaN      -6.298551      -8.267985       1.000021      26.953261\n",
       " 50%        NaN       1.153055      -4.813172       2.011479      57.085625\n",
       " 75%        NaN       8.621015      -1.332816       3.999904     107.813044\n",
       " max        NaN      29.421755      18.734063       5.019721     137.945408)"
      ]
     },
     "execution_count": 15,
     "metadata": {},
     "output_type": "execute_result"
    }
   ],
   "source": [
    "summary(df1)"
   ]
  },
  {
   "cell_type": "code",
   "execution_count": 16,
   "id": "3695f9da",
   "metadata": {},
   "outputs": [
    {
     "name": "stdout",
     "output_type": "stream",
     "text": [
      "<class 'pandas.core.frame.DataFrame'>\n",
      "RangeIndex: 100000 entries, 0 to 99999\n",
      "Data columns (total 5 columns):\n",
      " #   Column   Non-Null Count   Dtype  \n",
      "---  ------   --------------   -----  \n",
      " 0   id       100000 non-null  object \n",
      " 1   f0       100000 non-null  float64\n",
      " 2   f1       100000 non-null  float64\n",
      " 3   f2       100000 non-null  float64\n",
      " 4   product  100000 non-null  float64\n",
      "dtypes: float64(4), object(1)\n",
      "memory usage: 3.8+ MB\n"
     ]
    },
    {
     "data": {
      "text/plain": [
       "(      id        f0        f1        f2    product\n",
       " 0  fwXo0 -1.146987  0.963328 -0.828965  27.758673\n",
       " 1  WJtFt  0.262778  0.269839 -2.530187  56.069697\n",
       " 2  ovLUW  0.194587  0.289035 -5.586433  62.871910,\n",
       " None,\n",
       "             id             f0             f1             f2        product\n",
       " count   100000  100000.000000  100000.000000  100000.000000  100000.000000\n",
       " unique   99996            NaN            NaN            NaN            NaN\n",
       " top      VF7Jo            NaN            NaN            NaN            NaN\n",
       " freq         2            NaN            NaN            NaN            NaN\n",
       " mean       NaN       0.002023      -0.002081       2.495128      95.000000\n",
       " std        NaN       1.732045       1.730417       3.473445      44.749921\n",
       " min        NaN      -8.760004      -7.084020     -11.970335       0.000000\n",
       " 25%        NaN      -1.162288      -1.174820       0.130359      59.450441\n",
       " 50%        NaN       0.009424      -0.009482       2.484236      94.925613\n",
       " 75%        NaN       1.158535       1.163678       4.858794     130.595027\n",
       " max        NaN       7.238262       7.844801      16.739402     190.029838)"
      ]
     },
     "execution_count": 16,
     "metadata": {},
     "output_type": "execute_result"
    }
   ],
   "source": [
    "summary(df2)"
   ]
  },
  {
   "cell_type": "code",
   "execution_count": 17,
   "id": "68c7a08e",
   "metadata": {},
   "outputs": [
    {
     "data": {
      "image/png": "[encoded data removed]",
      "text/plain": [
       "<Figure size 432x288 with 4 Axes>"
      ]
     },
     "metadata": {
      "needs_background": "light"
     },
     "output_type": "display_data"
    },
    {
     "data": {
      "image/png": "[encoded data removed]",
      "text/plain": [
       "<Figure size 432x288 with 2 Axes>"
      ]
     },
     "metadata": {
      "needs_background": "light"
     },
     "output_type": "display_data"
    },
    {
     "name": "stderr",
     "output_type": "stream",
     "text": [
      "C:\\Users\\15594\\anaconda3\\lib\\site-packages\\seaborn\\distributions.py:2619: FutureWarning: `distplot` is a deprecated function and will be removed in a future version. Please adapt your code to use either `displot` (a figure-level function with similar flexibility) or `histplot` (an axes-level function for histograms).\n",
      "  warnings.warn(msg, FutureWarning)\n"
     ]
    },
    {
     "data": {
      "text/plain": [
       "Text(0.5, 1.0, 'Distribution of product')"
      ]
     },
     "execution_count": 17,
     "metadata": {},
     "output_type": "execute_result"
    },
    {
     "data": {
      "image/png": "[encoded data removed]",
      "text/plain": [
       "<Figure size 864x288 with 1 Axes>"
      ]
     },
     "metadata": {
      "needs_background": "light"
     },
     "output_type": "display_data"
    }
   ],
   "source": [
    "df0.hist()\n",
    "corr = df0.corr()\n",
    "plt.show()\n",
    "sns.heatmap(corr, cmap = 'Wistia', annot= True);\n",
    "plt.show()\n",
    "\n",
    "f= plt.figure(figsize=(12,4))\n",
    "\n",
    "ax=f.add_subplot(121)\n",
    "sns.distplot(df0['product'],bins=50,color='r',ax=ax)\n",
    "ax.set_title('Distribution of product')"
   ]
  },
  {
   "cell_type": "code",
   "execution_count": 18,
   "id": "dfc7f032",
   "metadata": {},
   "outputs": [
    {
     "data": {
      "image/png": "[encoded data removed]",
      "text/plain": [
       "<Figure size 432x288 with 4 Axes>"
      ]
     },
     "metadata": {
      "needs_background": "light"
     },
     "output_type": "display_data"
    },
    {
     "data": {
      "image/png": "[encoded data removed]",
      "text/plain": [
       "<Figure size 432x288 with 2 Axes>"
      ]
     },
     "metadata": {
      "needs_background": "light"
     },
     "output_type": "display_data"
    },
    {
     "name": "stderr",
     "output_type": "stream",
     "text": [
      "C:\\Users\\15594\\anaconda3\\lib\\site-packages\\seaborn\\distributions.py:2619: FutureWarning: `distplot` is a deprecated function and will be removed in a future version. Please adapt your code to use either `displot` (a figure-level function with similar flexibility) or `histplot` (an axes-level function for histograms).\n",
      "  warnings.warn(msg, FutureWarning)\n"
     ]
    },
    {
     "data": {
      "text/plain": [
       "Text(0.5, 1.0, 'Distribution of product')"
      ]
     },
     "execution_count": 18,
     "metadata": {},
     "output_type": "execute_result"
    },
    {
     "data": {
      "image/png": "[encoded data removed]",
      "text/plain": [
       "<Figure size 864x288 with 1 Axes>"
      ]
     },
     "metadata": {
      "needs_background": "light"
     },
     "output_type": "display_data"
    }
   ],
   "source": [
    "df1.hist()\n",
    "corr = df1.corr()\n",
    "plt.show()\n",
    "sns.heatmap(corr, cmap = 'Wistia', annot= True);\n",
    "plt.show()\n",
    "f= plt.figure(figsize=(12,4))\n",
    "\n",
    "ax=f.add_subplot(121)\n",
    "sns.distplot(df1['product'],bins=50,color='r',ax=ax)\n",
    "ax.set_title('Distribution of product')"
   ]
  },
  {
   "cell_type": "code",
   "execution_count": 19,
   "id": "28de4709",
   "metadata": {},
   "outputs": [
    {
     "data": {
      "image/png": "[encoded data removed]",
      "text/plain": [
       "<Figure size 432x288 with 4 Axes>"
      ]
     },
     "metadata": {
      "needs_background": "light"
     },
     "output_type": "display_data"
    },
    {
     "data": {
      "image/png": "[encoded data removed]",
      "text/plain": [
       "<Figure size 432x288 with 2 Axes>"
      ]
     },
     "metadata": {
      "needs_background": "light"
     },
     "output_type": "display_data"
    },
    {
     "name": "stderr",
     "output_type": "stream",
     "text": [
      "C:\\Users\\15594\\anaconda3\\lib\\site-packages\\seaborn\\distributions.py:2619: FutureWarning: `distplot` is a deprecated function and will be removed in a future version. Please adapt your code to use either `displot` (a figure-level function with similar flexibility) or `histplot` (an axes-level function for histograms).\n",
      "  warnings.warn(msg, FutureWarning)\n"
     ]
    },
    {
     "data": {
      "text/plain": [
       "Text(0.5, 1.0, 'Distribution of product')"
      ]
     },
     "execution_count": 19,
     "metadata": {},
     "output_type": "execute_result"
    },
    {
     "data": {
      "image/png": "[encoded data removed]",
      "text/plain": [
       "<Figure size 864x288 with 1 Axes>"
      ]
     },
     "metadata": {
      "needs_background": "light"
     },
     "output_type": "display_data"
    }
   ],
   "source": [
    "df2.hist()\n",
    "corr = df2.corr()\n",
    "plt.show()\n",
    "sns.heatmap(corr, cmap = 'Wistia', annot= True);\n",
    "plt.show()\n",
    "#More Depth of our target varible \n",
    "f= plt.figure(figsize=(12,4))\n",
    "\n",
    "ax=f.add_subplot(121)\n",
    "sns.distplot(df2['product'],bins=50,color='r',ax=ax)\n",
    "ax.set_title('Distribution of product')\n"
   ]
  },
  {
   "cell_type": "markdown",
   "id": "2524a829",
   "metadata": {},
   "source": [
    "We can see the distrubtion is normal in both df2 and df0 but df1 - fs column and product columns are comb histogram.  We can see that there isnt any really meaningful correlation. Will leave dataframe as is "
   ]
  },
  {
   "cell_type": "markdown",
   "id": "653592c4",
   "metadata": {},
   "source": [
    "# Model For Each region"
   ]
  },
  {
   "cell_type": "markdown",
   "id": "d4289d02",
   "metadata": {},
   "source": [
    "Creating a model for each region \n",
    "- using a function it split the dataframe into X_train, X_valid, y_train, y_valid  \n",
    "- Standard Scale the data, \n",
    "- Base line model using Dummy Regressor using the stragety \"mean\"\n",
    "- Make a linear Regrisson Model\n",
    "- Get the RMSE and Predicted Valid Mean \n",
    "\n",
    "This will be applied to each region "
   ]
  },
  {
   "cell_type": "code",
   "execution_count": 20,
   "id": "ebc16aa7",
   "metadata": {},
   "outputs": [],
   "source": [
    "def split_model(data):\n",
    "    features = data.drop(columns =['id','product']) \n",
    "    target = data['product'] \n",
    "    X_train, X_valid,  y_train,y_valid = train_test_split(features,target, test_size = 0.25, random_state=12345)\n",
    "    \n",
    "    cols = list(X_train.columns)\n",
    "    scaler = StandardScaler()\n",
    "    X_train[cols] = scaler.fit_transform(X_train[cols])\n",
    "    X_valid[cols] = scaler.transform(X_valid[cols])\n",
    "    return X_train, X_valid,  y_train,y_valid"
   ]
  },
  {
   "cell_type": "code",
   "execution_count": 21,
   "id": "dd2e372a",
   "metadata": {},
   "outputs": [],
   "source": [
    "r0_Xtrain, r0_Xvalid, r0_ytrain, r0_yvalid = split_model(df0)\n",
    "r1_Xtrain, r1_Xvalid, r1_ytrain, r1_yvalid = split_model(df1)\n",
    "r2_Xtrain, r2_Xvalid, r2_ytrain, r2_yvalid = split_model(df2)"
   ]
  },
  {
   "cell_type": "code",
   "execution_count": 22,
   "id": "341ee8ea",
   "metadata": {},
   "outputs": [],
   "source": [
    "\n",
    "\n",
    "def model(X_train, X_valid,  y_train,y_valid):    \n",
    "    base_model = DummyRegressor(strategy='mean')\n",
    "    base_model.fit(X_train, y_train)\n",
    "    y_prelim_pred = base_model.predict(X_valid)\n",
    "    rmse_baseline = round(mean_squared_error(y_valid,y_prelim_pred)** 0.5,2)\n",
    "    \n",
    "    model = LinearRegression( )\n",
    "    model.fit(X_train,y_train)\n",
    "    \n",
    "    predicted_valid = model.predict(X_valid)\n",
    "    score = model.score(X_train,y_train)\n",
    "    mse = mean_squared_error(y_valid, predicted_valid)\n",
    "    rmse = round(mse ** 0.5, 2)\n",
    "    predicted_valid_mean = round(predicted_valid.mean(),2)\n",
    "    \n",
    "\n",
    "\n",
    "    return model,rmse_baseline, rmse, predicted_valid_mean,predicted_valid"
   ]
  },
  {
   "cell_type": "code",
   "execution_count": 23,
   "id": "21cccde1",
   "metadata": {},
   "outputs": [],
   "source": [
    "model_0, rmse_baseline_0, rmse_0, predicted_valid_0,*_ = model(r0_Xtrain, r0_Xvalid, r0_ytrain, r0_yvalid)\n",
    "model_1, rmse_baseline_1, rmse_1, predicted_valid_1,*_ = model(r1_Xtrain, r1_Xvalid, r1_ytrain, r1_yvalid)\n",
    "model_2, rmse_baseline_2, rmse_2, predicted_valid_2,*_ = model(r2_Xtrain, r2_Xvalid, r2_ytrain, r2_yvalid)"
   ]
  },
  {
   "cell_type": "code",
   "execution_count": 24,
   "id": "f9047956",
   "metadata": {},
   "outputs": [],
   "source": [
    "data = pd.DataFrame({'Region': 'Region_0',\"Baseline_RMSE\":rmse_baseline_0,'RMSE':rmse_0,'Average_volume':df0['product'].mean(),'Predicted_valid_mean': predicted_valid_0,},index=[0])"
   ]
  },
  {
   "cell_type": "code",
   "execution_count": 25,
   "id": "0194c944",
   "metadata": {},
   "outputs": [],
   "source": [
    "data.loc[len(data.index)] = ['Region_1',rmse_baseline_1 , rmse_1,df1['product'].mean(),predicted_valid_1,]"
   ]
  },
  {
   "cell_type": "code",
   "execution_count": 26,
   "id": "98936a85",
   "metadata": {},
   "outputs": [],
   "source": [
    "data.loc[len(data.index)] = ['Region_2',rmse_baseline_2 , rmse_2,df2['product'].mean(),predicted_valid_2,]"
   ]
  },
  {
   "cell_type": "code",
   "execution_count": 27,
   "id": "ac14477e",
   "metadata": {},
   "outputs": [
    {
     "data": {
      "text/html": [
       "<div>\n",
       "<style scoped>\n",
       "    .dataframe tbody tr th:only-of-type {\n",
       "        vertical-align: middle;\n",
       "    }\n",
       "\n",
       "    .dataframe tbody tr th {\n",
       "        vertical-align: top;\n",
       "    }\n",
       "\n",
       "    .dataframe thead th {\n",
       "        text-align: right;\n",
       "    }\n",
       "</style>\n",
       "<table border=\"1\" class=\"dataframe\">\n",
       "  <thead>\n",
       "    <tr style=\"text-align: right;\">\n",
       "      <th></th>\n",
       "      <th>Region</th>\n",
       "      <th>Baseline_RMSE</th>\n",
       "      <th>RMSE</th>\n",
       "      <th>Average_volume</th>\n",
       "      <th>Predicted_valid_mean</th>\n",
       "    </tr>\n",
       "  </thead>\n",
       "  <tbody>\n",
       "    <tr>\n",
       "      <th>0</th>\n",
       "      <td>Region_0</td>\n",
       "      <td>44.29</td>\n",
       "      <td>37.58</td>\n",
       "      <td>92.500</td>\n",
       "      <td>92.59</td>\n",
       "    </tr>\n",
       "    <tr>\n",
       "      <th>1</th>\n",
       "      <td>Region_1</td>\n",
       "      <td>46.02</td>\n",
       "      <td>0.89</td>\n",
       "      <td>68.825</td>\n",
       "      <td>68.73</td>\n",
       "    </tr>\n",
       "    <tr>\n",
       "      <th>2</th>\n",
       "      <td>Region_2</td>\n",
       "      <td>44.90</td>\n",
       "      <td>40.03</td>\n",
       "      <td>95.000</td>\n",
       "      <td>94.97</td>\n",
       "    </tr>\n",
       "  </tbody>\n",
       "</table>\n",
       "</div>"
      ],
      "text/plain": [
       "     Region  Baseline_RMSE   RMSE  Average_volume  Predicted_valid_mean\n",
       "0  Region_0          44.29  37.58          92.500                 92.59\n",
       "1  Region_1          46.02   0.89          68.825                 68.73\n",
       "2  Region_2          44.90  40.03          95.000                 94.97"
      ]
     },
     "execution_count": 27,
     "metadata": {},
     "output_type": "execute_result"
    }
   ],
   "source": [
    "data.head()"
   ]
  },
  {
   "cell_type": "markdown",
   "id": "e7154c1b",
   "metadata": {},
   "source": [
    "Each of our Baseline model RMSe are higer then our actual models. We can see that our predicted values are very close to the Average product  which is very good."
   ]
  },
  {
   "cell_type": "code",
   "execution_count": 28,
   "id": "be98113e",
   "metadata": {},
   "outputs": [],
   "source": [
    "#The budget for development of 200 oil wells is 100 USD million.\n",
    "budget = 100000000   \n",
    "profit_wells = 200  \n",
    "#revenue from one unit of product is 4,500 dollars\n",
    "profit_from_one_product = 4500\n"
   ]
  },
  {
   "cell_type": "code",
   "execution_count": 29,
   "id": "d7858efe",
   "metadata": {},
   "outputs": [
    {
     "name": "stdout",
     "output_type": "stream",
     "text": [
      "Total cost per well is: $500000.0\n"
     ]
    }
   ],
   "source": [
    "\n",
    "cost_per_well = budget /profit_wells\n",
    "print(f'Total cost per well is: ${cost_per_well}')"
   ]
  },
  {
   "cell_type": "code",
   "execution_count": 30,
   "id": "db439a1f",
   "metadata": {},
   "outputs": [
    {
     "name": "stdout",
     "output_type": "stream",
     "text": [
      "Number of wells needed: 111.11111111111111\n"
     ]
    }
   ],
   "source": [
    "Met = budget/(profit_from_one_product*profit_wells )\n",
    "print(f'Number of wells needed: {Met}')"
   ]
  },
  {
   "cell_type": "markdown",
   "id": "2bf47e5b",
   "metadata": {},
   "source": [
    "- The min value that is needed is 111.11 in order to break even.\n",
    "- Between all regions we are losing money.  \n",
    "- Region 2 is coming in first with the highest average 95 barrels "
   ]
  },
  {
   "cell_type": "markdown",
   "id": "287ecba9",
   "metadata": {},
   "source": [
    "# Calculate Profit from a set of selected oil wells and model predictions:"
   ]
  },
  {
   "cell_type": "code",
   "execution_count": 32,
   "id": "3a1c8342",
   "metadata": {},
   "outputs": [],
   "source": [
    "region_0 = pd.DataFrame()\n",
    "region_0['predicted'] = model_0.predict(r0_Xvalid)\n",
    "region_0['actual'] = r0_yvalid.values\n",
    "\n",
    "region_1 = pd.DataFrame()\n",
    "region_1['predicted'] = model_1.predict(r1_Xvalid)\n",
    "region_1['actual'] = r1_yvalid.values\n",
    "\n",
    "region_2 = pd.DataFrame()\n",
    "region_2['predicted'] = model_2.predict(r2_Xvalid)\n",
    "region_2['actual'] = r2_yvalid.values\n"
   ]
  },
  {
   "cell_type": "code",
   "execution_count": 33,
   "id": "0c3277f8",
   "metadata": {},
   "outputs": [
    {
     "name": "stdout",
     "output_type": "stream",
     "text": [
      "200\n",
      "200\n",
      "200\n"
     ]
    }
   ],
   "source": [
    "#Create function to select best 200 wells from each region based on predictions.\n",
    "def best_200(region_target, prediction,count):\n",
    "    predictions_sorted = pd.Series(prediction, index=region_target.index).sort_values(ascending=False)\n",
    "    top_target = region_target.loc[predictions_sorted.index][:count]\n",
    "    return top_target\n",
    "\n",
    "#Obtain top 200 wells per region and it's actual product value based on highest predicted value.\n",
    "region_0_top = best_200(region_0['actual'],region_0['predicted'],200)\n",
    "region_1_top = best_200(region_1['actual'],region_1['predicted'],200)\n",
    "region_2_top = best_200(region_2['actual'],region_2['predicted'],200)\n",
    "\n",
    "\n",
    "print(len(region_0_top))\n",
    "print(len(region_1_top))\n",
    "print(len(region_2_top))"
   ]
  },
  {
   "cell_type": "code",
   "execution_count": 34,
   "id": "dd0438b0",
   "metadata": {},
   "outputs": [
    {
     "data": {
      "text/html": [
       "<div>\n",
       "<style scoped>\n",
       "    .dataframe tbody tr th:only-of-type {\n",
       "        vertical-align: middle;\n",
       "    }\n",
       "\n",
       "    .dataframe tbody tr th {\n",
       "        vertical-align: top;\n",
       "    }\n",
       "\n",
       "    .dataframe thead th {\n",
       "        text-align: right;\n",
       "    }\n",
       "</style>\n",
       "<table border=\"1\" class=\"dataframe\">\n",
       "  <thead>\n",
       "    <tr style=\"text-align: right;\">\n",
       "      <th></th>\n",
       "      <th>Profit (USD Million)</th>\n",
       "      <th>Barrels (Million)</th>\n",
       "    </tr>\n",
       "  </thead>\n",
       "  <tbody>\n",
       "    <tr>\n",
       "      <th>Region 0</th>\n",
       "      <td>33.21</td>\n",
       "      <td>29.60</td>\n",
       "    </tr>\n",
       "    <tr>\n",
       "      <th>Region 1</th>\n",
       "      <td>24.15</td>\n",
       "      <td>27.59</td>\n",
       "    </tr>\n",
       "    <tr>\n",
       "      <th>Region 2</th>\n",
       "      <td>27.10</td>\n",
       "      <td>28.25</td>\n",
       "    </tr>\n",
       "  </tbody>\n",
       "</table>\n",
       "</div>"
      ],
      "text/plain": [
       "          Profit (USD Million)  Barrels (Million)\n",
       "Region 0                 33.21              29.60\n",
       "Region 1                 24.15              27.59\n",
       "Region 2                 27.10              28.25"
      ]
     },
     "metadata": {},
     "output_type": "display_data"
    }
   ],
   "source": [
    "#Create a function to calculate the potential profit from the top 200 wells by region.\n",
    "def top_profit(region):\n",
    "    profit = (((region.sum() * profit_from_one_product) - budget)/1000000 ).round(2)\n",
    "    total_vol = (region.sum() / 1000).round(2)\n",
    "    return profit, total_vol\n",
    "\n",
    "display(pd.DataFrame([top_profit(region_0_top), top_profit(region_1_top), top_profit(region_2_top)], \\\n",
    "                   columns=['Profit (USD Million)', 'Barrels (Million)'], index= ['Region 0','Region 1','Region 2']))"
   ]
  },
  {
   "cell_type": "code",
   "execution_count": 35,
   "id": "5f918fd3",
   "metadata": {},
   "outputs": [],
   "source": [
    "\n",
    "def profit(region_vals):\n",
    "    state = np.random.RandomState(12345)\n",
    "    developement_cost = 100000000\n",
    "\n",
    "    profit_range = []\n",
    "    for i in range(10000):\n",
    "        subsample = region_vals.sample(n=500, replace=True, random_state=state).sort_values('predicted', ascending=False).iloc[0:200,].actual\n",
    "        revenue = subsample.sum() * 4500\n",
    "        profit = revenue - developement_cost\n",
    "        profit_range.append(profit)\n",
    "    return profit_range\n"
   ]
  },
  {
   "cell_type": "code",
   "execution_count": 36,
   "id": "f90e61d2",
   "metadata": {},
   "outputs": [],
   "source": [
    "Regional_0 = pd.Series(profit(region_0))\n",
    "Regional_1 = pd.Series(profit(region_1))\n",
    "Regional_2 = pd.Series(profit(region_2))"
   ]
  },
  {
   "cell_type": "code",
   "execution_count": 37,
   "id": "d890516b",
   "metadata": {},
   "outputs": [
    {
     "data": {
      "text/plain": [
       "Text(0.5, 1.0, ' Distribution of Profit')"
      ]
     },
     "execution_count": 37,
     "metadata": {},
     "output_type": "execute_result"
    },
    {
     "data": {
      "image/png": "[encoded data removed]",
      "text/plain": [
       "<Figure size 1080x720 with 1 Axes>"
      ]
     },
     "metadata": {
      "needs_background": "light"
     },
     "output_type": "display_data"
    }
   ],
   "source": [
    "plt.figure(figsize=(15,10))\n",
    "plt.hist(Regional_0, bins = 100,alpha=0.6,label = 'Region0')\n",
    "plt.hist(Regional_1, bins = 100,alpha=0.5, label = 'Region1')\n",
    "plt.hist(Regional_2, bins = 100,alpha=0.3,label = 'Region2')\n",
    "plt.legend()\n",
    "plt.xlabel('10 Million USD')\n",
    "plt.title(' Distribution of Profit')"
   ]
  },
  {
   "cell_type": "code",
   "execution_count": 38,
   "id": "a1bf70ac",
   "metadata": {},
   "outputs": [],
   "source": [
    "def risk_calculator(lower, upper, profit_range):\n",
    "    lower = np.percentile(profit_range, lower)/10000000\n",
    "    upper = np.percentile(profit_range, upper)/10000000\n",
    "    return lower, upper"
   ]
  },
  {
   "cell_type": "code",
   "execution_count": 39,
   "id": "1de60710",
   "metadata": {},
   "outputs": [],
   "source": [
    "lower_r0, upper_r0 = risk_calculator(2.5, 97.5, Regional_0)\n",
    "lower_r1, upper_r1 = risk_calculator(2.5, 97.5, Regional_1)\n",
    "lower_r2, upper_r2 = risk_calculator(2.5, 97.5, Regional_2)"
   ]
  },
  {
   "cell_type": "code",
   "execution_count": 40,
   "id": "fb9197cc",
   "metadata": {},
   "outputs": [],
   "source": [
    "risk_r0 = round((Regional_0.sort_values(ascending=True) < 0).mean(),2)\n",
    "risk_r1 = round((Regional_1.sort_values(ascending=True) < 0).mean(),2)\n",
    "risk_r2 = round((Regional_2.sort_values(ascending=True) < 0).mean(),2)"
   ]
  },
  {
   "cell_type": "code",
   "execution_count": 41,
   "id": "75bea1df",
   "metadata": {},
   "outputs": [],
   "source": [
    "avg_Regional_0  = round(Regional_0.mean()/100000000,2)\n",
    "avg_Regional_1 = round(Regional_1.mean()/100000000,2)\n",
    "avg_Regional_2  = round(Regional_2.mean()/100000000,2)"
   ]
  },
  {
   "cell_type": "code",
   "execution_count": 42,
   "id": "729d474d",
   "metadata": {},
   "outputs": [
    {
     "name": "stdout",
     "output_type": "stream",
     "text": [
      "The Risk for Region0: 0.07 The lower border :-0.12712959391539735 Upper Border: 0.9036523891107549 Mean Profit: 0.04\n"
     ]
    }
   ],
   "source": [
    "print(f'The Risk for Region0: {risk_r0} The lower border :{lower_r0} Upper Border: {upper_r0} Mean Profit: {avg_Regional_0 }')"
   ]
  },
  {
   "cell_type": "code",
   "execution_count": 43,
   "id": "b4bd90ff",
   "metadata": {},
   "outputs": [
    {
     "name": "stdout",
     "output_type": "stream",
     "text": [
      "The Risk for Region1: 0.01 The lower border :0.051038978210651856 Upper Border: 0.8458642111016704 Mean Profit:0.05\n"
     ]
    }
   ],
   "source": [
    "print(f'The Risk for Region1: {risk_r1} The lower border :{lower_r1} Upper Border: {upper_r1} Mean Profit:{avg_Regional_1}')"
   ]
  },
  {
   "cell_type": "code",
   "execution_count": 44,
   "id": "d41d9469",
   "metadata": {},
   "outputs": [
    {
     "name": "stdout",
     "output_type": "stream",
     "text": [
      "The Risk for Region2: 0.07 The lower border :-0.1371812891128915 Upper Border: 0.9296999742124811 Mean Profit:0.04\n"
     ]
    }
   ],
   "source": [
    "print(f'The Risk for Region2: {risk_r2} The lower border :{lower_r2} Upper Border: {upper_r2} Mean Profit:{avg_Regional_2 }')"
   ]
  },
  {
   "cell_type": "markdown",
   "id": "b77a3ddc",
   "metadata": {},
   "source": [
    "# Conclusion"
   ]
  },
  {
   "cell_type": "markdown",
   "id": "424ebec3",
   "metadata": {},
   "source": [
    "In this project we have developed a linear regression model for the OilyGiant mining company that analyzes oil well parameters in each of the three selected regions and predicts the volume of reserves in the new wells for each region. Based on these predictions, we have identified the region with the highest total profit and the lowest risk of losses."
   ]
  },
  {
   "cell_type": "markdown",
   "id": "69bee622",
   "metadata": {},
   "source": [
    "We have developed a model for each region. For that purpose we split the data into train and validation sets with the 75/25 proportion, respectively. Then we scaled it using the Standard Scaler method. Next, we calculated the baseline RMSE to be able to compare our models' score with a dummy regressor.\n",
    "\n",
    "Each of the 3 models' RMSE turned out to be lower than the respective baseline RMSE"
   ]
  },
  {
   "cell_type": "markdown",
   "id": "1211f114",
   "metadata": {},
   "source": [
    "First, we calculated the volume of reserves sufficient for developing a new well without losses (a break-even point). The minimum volume of reserves per well in the new region must be 111.11 thousand barrels in order to break even.\n",
    "\n",
    "Each of the 3 regions' average volume of predicted reserves is lower than this number. If we were to randomly take 200 wells in each region we would be at a loss, on average. To be able to make profit, let's select the most profitable wells in each region and see if the total reserves will cover the development cost.\n",
    "\n",
    "In practice, instead of drilling all the wells in each region (and investing a lot of money in it), the company chooses 500 random wells, measure the features' values (f0, f1, f2) for each of them and then selects the best 200 wells for the profit calculation."
   ]
  },
  {
   "cell_type": "markdown",
   "id": "070fdfa5",
   "metadata": {},
   "source": [
    "In conclusion, Region 1 is the best candidate for the future development of oil wells because it has the highest Mean profit and has the low risk as well."
   ]
  },
  {
   "cell_type": "code",
   "execution_count": null,
   "id": "6b0b13dc",
   "metadata": {},
   "outputs": [],
   "source": []
  }
 ],
 "metadata": {
  "kernelspec": {
   "display_name": "Python 3 (ipykernel)",
   "language": "python",
   "name": "python3"
  },
  "language_info": {
   "codemirror_mode": {
    "name": "ipython",
    "version": 3
   },
   "file_extension": ".py",
   "mimetype": "text/x-python",
   "name": "python",
   "nbconvert_exporter": "python",
   "pygments_lexer": "ipython3",
   "version": "3.8.8"
  }
 },
 "nbformat": 4,
 "nbformat_minor": 5
}
